{
 "cells": [
  {
   "cell_type": "code",
   "execution_count": 99,
   "id": "6998fb8e-6def-4799-b2f3-0250b01a730f",
   "metadata": {},
   "outputs": [],
   "source": [
    "# Extract the images of a document into the output folder\n",
    "# -------------------------------------------------------------------------------\n",
    "# License: GNU GPL V3\n",
    "# (c) 2018 Jorj X. McKie\n",
    "# \n",
    "# Notes\n",
    "# -----\n",
    "# The output.pdf file generated in examples/insert-images is renamed as input.pdf\n",
    "# to be used as the input file in this example.\n",
    "# \n",
    "# Usage\n",
    "# -----\n",
    "# python extract-from-pages.py input.pdf\n",
    "# \n",
    "# Description\n",
    "# -----------\n",
    "# For a given entry in a page's get_images() list, function \"recoverpix\"\n",
    "# returns a dictionary like the one produced by \"Document.extract_image\".\n",
    "# \n",
    "# It preprocesses the following special cases:\n",
    "# * The PDF image has an /SMask (soft mask) entry. We use Pillow for recovering\n",
    "#   the original image with an alpha channel in RGBA format.\n",
    "# * The PDF image has a /ColorSpace definition. We then convert the image to\n",
    "#   an RGB colorspace.\n",
    "# \n",
    "# The main script part implements the following features:\n",
    "# * Prevent multiple extractions of same image\n",
    "# * Prevent extraction of \"unimportant\" images, like \"too small\", \"unicolor\",\n",
    "#   etc. This can be controlled by parameters.\n",
    "# \n",
    "# Apart from above special cases, the script aims to extract images with\n",
    "# their original file extensions. The produced filename is \"img<xref>.<ext>\",\n",
    "# with xref being the PDF cross reference number of the image.\n",
    "# \n",
    "# Dependencies\n",
    "# ------------\n",
    "# PyMuPDF v1.18.18\n",
    "# PySimpleGUI, tkinter\n",
    "# \n",
    "# Changes\n",
    "# -------\n",
    "# * 2021-09-17: remove PIL and use extended pixmap features instead\n",
    "# * 2020-10-04: for images with an /SMask, we use Pillow to recover original\n",
    "# * 2020-11-21: convert cases with special /ColorSpace definitions to RGB PNG\n"
   ]
  },
  {
   "cell_type": "code",
   "execution_count": 100,
   "id": "ac95de0e-9ce3-4550-92ba-021952a91791",
   "metadata": {},
   "outputs": [],
   "source": [
    "import io\n",
    "import os\n",
    "import sys\n",
    "import time\n",
    "\n",
    "import fitz\n",
    "# import PySimpleGUI as sg"
   ]
  },
  {
   "cell_type": "code",
   "execution_count": 101,
   "id": "b2599f8d-ec23-4ede-b79c-a638d8f0965e",
   "metadata": {},
   "outputs": [
    {
     "name": "stdout",
     "output_type": "stream",
     "text": [
      "PyMuPDF 1.24.0: Python bindings for the MuPDF 1.24.0 library (rebased implementation).\n",
      "Python 3.12 running on darwin (64-bit).\n",
      "\n"
     ]
    }
   ],
   "source": [
    "print(fitz.__doc__)\n",
    "\n",
    "if not tuple(map(int, fitz.version[0].split(\".\"))) >= (1, 18, 18):\n",
    "    raise SystemExit(\"require PyMuPDF v1.18.18+\")"
   ]
  },
  {
   "cell_type": "code",
   "execution_count": 106,
   "id": "1779b4ec-6717-4d20-ab50-1f0f36f2ef6e",
   "metadata": {},
   "outputs": [],
   "source": [
    "fname = \"/Users/willit/Documents/WorldBank/testfile/792930WP0WB0NC0l0Box07929300PUBLIC0.pdf\"\n",
    "t0 = time.time()\n",
    "doc = fitz.open(fname)\n",
    "\n",
    "page_count = doc.page_count  # number of pages\n",
    "\n",
    "xreflist = []\n",
    "imglist = []\n",
    "\n",
    "dimlimit = 100  # 100  # each image side must be greater than this\n",
    "relsize = .05  # 0.05  # image : image size ratio must be larger than this (10%)\n",
    "abssize = 2048  # 2048  # absolute image size limit 20 KB: ignore if smaller\n",
    "imgdir = \"/Users/willit/Documents/WorldBank/testfile\"  # found images are stored in this subfolder\n",
    "\n",
    "if not os.path.exists(imgdir):  # make subfolder if necessary\n",
    "    os.mkdir(imgdir)\n"
   ]
  },
  {
   "cell_type": "code",
   "execution_count": 107,
   "id": "9bc0474b-92e9-4c24-ac67-ac059b0faf22",
   "metadata": {},
   "outputs": [],
   "source": [
    "def recoverpix(doc, item):\n",
    "    xref = item[0]  # xref of PDF image\n",
    "    smask = item[1]  # xref of its /SMask\n",
    "\n",
    "    # special case: /SMask or /Mask exists\n",
    "    if smask > 0:\n",
    "        pix0 = fitz.Pixmap(doc.extract_image(xref)[\"image\"])\n",
    "        if pix0.alpha:  # catch irregular situation\n",
    "            pix0 = fitz.Pixmap(pix0, 0)  # remove alpha channel\n",
    "        mask = fitz.Pixmap(doc.extract_image(smask)[\"image\"])\n",
    "\n",
    "        try:\n",
    "            pix = fitz.Pixmap(pix0, mask)\n",
    "        except:  # fallback to original base image in case of problems\n",
    "            pix = fitz.Pixmap(doc.extract_image(xref)[\"image\"])\n",
    "\n",
    "        if pix0.n > 3:\n",
    "            ext = \"pam\"\n",
    "        else:\n",
    "            ext = \"png\"\n",
    "\n",
    "        return {  # create dictionary expected by caller\n",
    "            \"ext\": ext,\n",
    "            \"colorspace\": pix.colorspace.n,\n",
    "            \"image\": pix.tobytes(ext),\n",
    "        }\n",
    "\n",
    "    # special case: /ColorSpace definition exists\n",
    "    # to be sure, we convert these cases to RGB PNG images\n",
    "    if \"/ColorSpace\" in doc.xref_object(xref, compressed=True):\n",
    "        pix = fitz.Pixmap(doc, xref)\n",
    "        pix = fitz.Pixmap(fitz.csRGB, pix)\n",
    "        return {  # create dictionary expected by caller\n",
    "            \"ext\": \"png\",\n",
    "            \"colorspace\": 3,\n",
    "            \"image\": pix.tobytes(\"png\"),\n",
    "        }\n",
    "    return doc.extract_image(xref)\n"
   ]
  },
  {
   "cell_type": "code",
   "execution_count": 108,
   "id": "5fed4ead-639c-4d70-a200-12ed35d08195",
   "metadata": {},
   "outputs": [],
   "source": [
    "for pno in range(page_count):\n",
    "#    sg.QuickMeter(\n",
    "#        \"Extract Images\",  # show our progress\n",
    "#        pno + 1,\n",
    "#        page_count,\n",
    "#        \"*** Scanning Pages ***\",\n",
    "#    )\n",
    "\n",
    "    il = doc.get_page_images(pno)\n",
    "    \n",
    "    imglist.extend([x[0] for x in il])\n",
    "    \n",
    "    for img in il:\n",
    "        xref = img[0]\n",
    "        if xref in xreflist:\n",
    "            continue\n",
    "        width = img[2]\n",
    "        height = img[3]\n",
    "        if min(width, height) <= dimlimit:\n",
    "            continue\n",
    "        image = recoverpix(doc, img)\n",
    "        n = image[\"colorspace\"]\n",
    "        imgdata = image[\"image\"]\n",
    "\n",
    "        if len(imgdata) <= abssize:\n",
    "            continue\n",
    "        if len(imgdata) / (width * height * n) <= relsize:\n",
    "            continue\n",
    "\n",
    "        imgfile = os.path.join(imgdir, \"img%05i.%s\" % (xref, image[\"ext\"]))\n",
    "        fout = open(imgfile, \"wb\")\n",
    "        fout.write(imgdata)\n",
    "        fout.close()\n",
    "        xreflist.append(xref)"
   ]
  },
  {
   "cell_type": "code",
   "execution_count": 109,
   "id": "a46f8082-0a0f-4d7e-94a4-52af9e780225",
   "metadata": {},
   "outputs": [
    {
     "name": "stdout",
     "output_type": "stream",
     "text": [
      "50 images in total\n",
      "6 images extracted\n",
      "total time 2.40795 sec\n"
     ]
    }
   ],
   "source": [
    "t1 = time.time()\n",
    "\n",
    "# imglist = list(set(imglist))\n",
    "\n",
    "print(len(set(imglist)), \"images in total\")\n",
    "print(len(xreflist), \"images extracted\")\n",
    "print(\"total time %g sec\" % (t1 - t0))"
   ]
  },
  {
   "cell_type": "code",
   "execution_count": null,
   "id": "a154627c-82fc-4ed3-87d2-dc8419b92dba",
   "metadata": {},
   "outputs": [],
   "source": []
  },
  {
   "cell_type": "code",
   "execution_count": null,
   "id": "5586d458-87f9-4f04-802f-6ab300242fc5",
   "metadata": {},
   "outputs": [],
   "source": []
  }
 ],
 "metadata": {
  "kernelspec": {
   "display_name": "Python 3 (ipykernel)",
   "language": "python",
   "name": "python3"
  },
  "language_info": {
   "codemirror_mode": {
    "name": "ipython",
    "version": 3
   },
   "file_extension": ".py",
   "mimetype": "text/x-python",
   "name": "python",
   "nbconvert_exporter": "python",
   "pygments_lexer": "ipython3",
   "version": "3.12.1"
  }
 },
 "nbformat": 4,
 "nbformat_minor": 5
}
