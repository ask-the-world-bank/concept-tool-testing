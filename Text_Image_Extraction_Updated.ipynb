{
 "cells": [
  {
   "cell_type": "markdown",
   "id": "14bae8be",
   "metadata": {},
   "source": [
    "# PDF Text and Image Extraction\n",
    "\n",
    "This notebook is designed to perform text extraction from all pages of specific PDFs, using PyMuPDF.\n",
    "It extracts text as shown in the PDFs, with extraneous whitespace removed and ignores .72 inches of border on each page.\n",
    "Additionally, it extracts images larger than 200 pixels in any dimension or larger than 100kb in size.\n",
    "\n",
    "The extracted text and images are saved in the same directory as the PDFs.\n"
   ]
  },
  {
   "cell_type": "code",
   "execution_count": 1,
   "id": "4dd6ae3e",
   "metadata": {},
   "outputs": [],
   "source": [
    "import fitz  # PyMuPDF\n",
    "import os\n"
   ]
  },
  {
   "cell_type": "code",
   "execution_count": 2,
   "id": "b550152f",
   "metadata": {},
   "outputs": [],
   "source": [
    "def extract_text_and_images(pdf_path):\n",
    "    doc = fitz.open(pdf_path)\n",
    "    text_folder = os.path.splitext(pdf_path)[0] + '_text'\n",
    "    image_folder = os.path.splitext(pdf_path)[0] + '_images'\n",
    "    os.makedirs(text_folder, exist_ok=True)\n",
    "    os.makedirs(image_folder, exist_ok=True)\n",
    "    \n",
    "    for page_num, page in enumerate(doc):\n",
    "        # Extract text, ignoring .72 inches of border\n",
    "        text = page.get_textbox(rect=fitz.Rect(72 * 0.72, 72 * 0.72, page.rect.width - (72 * 0.72), page.rect.height - (72 * 0.72)))\n",
    "        text_file_path = os.path.join(text_folder, f'page_{page_num}.txt')\n",
    "        with open(text_file_path, 'w') as f:\n",
    "            f.write(text.strip())\n",
    "        \n",
    "        # Extract images\n",
    "        image_list = page.get_images(full=True)\n",
    "        for image_index, img in enumerate(page.get_images(full=True)):\n",
    "            xref = img[0]\n",
    "            base_image = doc.extract_image(xref)\n",
    "            image = base_image[\"image\"]\n",
    "            # Check if image meets size criteria\n",
    "            if base_image[\"width\"] > 200 or base_image[\"height\"] > 200 or len(image) > 100 * 1024:\n",
    "                image_path = os.path.join(image_folder, f'page_{page_num}_image_{image_index}.png')\n",
    "                with open(image_path, 'wb') as img_file:\n",
    "                    img_file.write(image)\n"
   ]
  },
  {
   "cell_type": "code",
   "execution_count": 3,
   "id": "46c1dc4e",
   "metadata": {},
   "outputs": [
    {
     "name": "stdout",
     "output_type": "stream",
     "text": [
      "Extraction completed for: /Users/willit/Documents/WorldBank/samplefiles/713741468337198922/536490BRI0SPAN10Box345621B01PUBLIC1.pdf\n",
      "Extraction completed for: /Users/willit/Documents/WorldBank/samplefiles/615181468141301901/394600turkey0p1io0economic01public1.pdf\n",
      "Extraction completed for: /Users/willit/Documents/WorldBank/samplefiles/561931468184777746/96423-BRI-CHILD-FECES-Box391444B-PUBLIC-WSP-Chad-CFD-Profile.pdf\n",
      "Extraction completed for: /Users/willit/Documents/WorldBank/samplefiles/115871467986280887/96433-BRI-CHILD-FECES-Box391444B-PUBLIC-WSP-Malawi-CFD-Profile.pdf\n",
      "Extraction completed for: /Users/willit/Documents/WorldBank/samplefiles/449301467990363947/E23680v50P11151C10AFR1HCWMP1P111556.pdf\n",
      "Extraction completed for: /Users/willit/Documents/WorldBank/samplefiles/941581468190761057/96403-BRI-2012Apr16-P003566-SPANISH-China-Basic-Health-Services-Box-391427B-PUBLIC.pdf\n",
      "Extraction completed for: /Users/willit/Documents/WorldBank/samplefiles/509091468331002932/663880NEWS00PU0x365772B0HDQU0402011.pdf\n",
      "Extraction completed for: /Users/willit/Documents/WorldBank/samplefiles/405711468175729150/SFG1354-EA-P145335-PUBLIC-Disclosed-9-29-2015-Box393207B.pdf\n",
      "Extraction completed for: /Users/willit/Documents/WorldBank/samplefiles/752981468262477356/529370BRI0REVI10BOX353820B01PUBLIC1.pdf\n",
      "Extraction completed for: /Users/willit/Documents/WorldBank/samplefiles/210641468250499158/multi0page.pdf\n",
      "Extraction completed for: /Users/willit/Documents/WorldBank/samplefiles/261121468118730678/434650ESW0P1061sclosed0June01302008.pdf\n",
      "Extraction completed for: /Users/willit/Documents/WorldBank/samplefiles/586751527602077814/Egypt-Arab-Republic-of-EG-Health-Care-Quality-Improvement.pdf\n",
      "Extraction completed for: /Users/willit/Documents/WorldBank/samplefiles/132391620237296622/Additional-Financing-Environmental-and-Social-Review-Summary-ESRS-Ghana-COVID-19-Emergency-Preparedness-and-Response-Project-Second-Additional-Financing-P176485.pdf\n",
      "Extraction completed for: /Users/willit/Documents/WorldBank/samplefiles/505471468333856058/480610BR0R200910disclosed0417120091.pdf\n",
      "Extraction completed for: /Users/willit/Documents/WorldBank/samplefiles/858561468015878973/623750PROP0P110delo0BM000abril02011.pdf\n",
      "Extraction completed for: /Users/willit/Documents/WorldBank/samplefiles/592131632358667692/Revised-Labor-Management-Procedures-Public-Information-and-Awareness-Services-for-Vulnerable-Communities-in-Lao-PDR-P170640.pdf\n",
      "Extraction completed for: /Users/willit/Documents/WorldBank/samplefiles/306031588146608710/Infection-Control-and-Waste-Management-for-Lesotho-Standard-Operating-Procedures.pdf\n",
      "Extraction completed for: /Users/willit/Documents/WorldBank/samplefiles/166011467999980505/ICRR14891-P083997-Box394872B-PUBLIC.pdf\n",
      "Extraction completed for: /Users/willit/Documents/WorldBank/samplefiles/452051468106470860/multi-page.pdf\n",
      "Extraction completed for: /Users/willit/Documents/WorldBank/samplefiles/635231468033354371/0394025FCED4BE3185256F03000FFAF4.pdf\n",
      "Extraction completed for: /Users/willit/Documents/WorldBank/samplefiles/739891468330315677/121830WDR0CHINESE0Box74476B01PUBLIC1.pdf\n",
      "Extraction completed for: /Users/willit/Documents/WorldBank/samplefiles/497961491988459594/114174-NEWS-PUBLIC-English-CU-APR17-web.pdf\n",
      "Extraction completed for: /Users/willit/Documents/WorldBank/samplefiles/844381468209068874/792930WP0WB0NC0l0Box07929300PUBLIC0.pdf\n"
     ]
    }
   ],
   "source": [
    "pdf_paths = [\n",
    "    \"/Users/willit/Documents/WorldBank/samplefiles/713741468337198922/536490BRI0SPAN10Box345621B01PUBLIC1.pdf\",\n",
    "    \"/Users/willit/Documents/WorldBank/samplefiles/615181468141301901/394600turkey0p1io0economic01public1.pdf\",\n",
    "    \"/Users/willit/Documents/WorldBank/samplefiles/561931468184777746/96423-BRI-CHILD-FECES-Box391444B-PUBLIC-WSP-Chad-CFD-Profile.pdf\",\n",
    "    \"/Users/willit/Documents/WorldBank/samplefiles/115871467986280887/96433-BRI-CHILD-FECES-Box391444B-PUBLIC-WSP-Malawi-CFD-Profile.pdf\",\n",
    "    \"/Users/willit/Documents/WorldBank/samplefiles/449301467990363947/E23680v50P11151C10AFR1HCWMP1P111556.pdf\",\n",
    "    \"/Users/willit/Documents/WorldBank/samplefiles/941581468190761057/96403-BRI-2012Apr16-P003566-SPANISH-China-Basic-Health-Services-Box-391427B-PUBLIC.pdf\",\n",
    "    \"/Users/willit/Documents/WorldBank/samplefiles/509091468331002932/663880NEWS00PU0x365772B0HDQU0402011.pdf\",\n",
    "    \"/Users/willit/Documents/WorldBank/samplefiles/405711468175729150/SFG1354-EA-P145335-PUBLIC-Disclosed-9-29-2015-Box393207B.pdf\",\n",
    "    \"/Users/willit/Documents/WorldBank/samplefiles/752981468262477356/529370BRI0REVI10BOX353820B01PUBLIC1.pdf\",\n",
    "    \"/Users/willit/Documents/WorldBank/samplefiles/210641468250499158/multi0page.pdf\",\n",
    "    \"/Users/willit/Documents/WorldBank/samplefiles/261121468118730678/434650ESW0P1061sclosed0June01302008.pdf\",\n",
    "    \"/Users/willit/Documents/WorldBank/samplefiles/586751527602077814/Egypt-Arab-Republic-of-EG-Health-Care-Quality-Improvement.pdf\",\n",
    "    \"/Users/willit/Documents/WorldBank/samplefiles/132391620237296622/Additional-Financing-Environmental-and-Social-Review-Summary-ESRS-Ghana-COVID-19-Emergency-Preparedness-and-Response-Project-Second-Additional-Financing-P176485.pdf\",\n",
    "    \"/Users/willit/Documents/WorldBank/samplefiles/505471468333856058/480610BR0R200910disclosed0417120091.pdf\",\n",
    "    \"/Users/willit/Documents/WorldBank/samplefiles/858561468015878973/623750PROP0P110delo0BM000abril02011.pdf\",\n",
    "    \"/Users/willit/Documents/WorldBank/samplefiles/592131632358667692/Revised-Labor-Management-Procedures-Public-Information-and-Awareness-Services-for-Vulnerable-Communities-in-Lao-PDR-P170640.pdf\",\n",
    "    \"/Users/willit/Documents/WorldBank/samplefiles/306031588146608710/Infection-Control-and-Waste-Management-for-Lesotho-Standard-Operating-Procedures.pdf\",\n",
    "    \"/Users/willit/Documents/WorldBank/samplefiles/166011467999980505/ICRR14891-P083997-Box394872B-PUBLIC.pdf\",\n",
    "    \"/Users/willit/Documents/WorldBank/samplefiles/452051468106470860/multi-page.pdf\",\n",
    "    \"/Users/willit/Documents/WorldBank/samplefiles/635231468033354371/0394025FCED4BE3185256F03000FFAF4.pdf\",\n",
    "    \"/Users/willit/Documents/WorldBank/samplefiles/739891468330315677/121830WDR0CHINESE0Box74476B01PUBLIC1.pdf\",\n",
    "    \"/Users/willit/Documents/WorldBank/samplefiles/497961491988459594/114174-NEWS-PUBLIC-English-CU-APR17-web.pdf\",\n",
    "    \"/Users/willit/Documents/WorldBank/samplefiles/844381468209068874/792930WP0WB0NC0l0Box07929300PUBLIC0.pdf\"\n",
    "]\n",
    "\n",
    "for pdf_path in pdf_paths:\n",
    "    extract_text_and_images(pdf_path)\n",
    "    print(f\"Extraction completed for: {pdf_path}\")\n"
   ]
  },
  {
   "cell_type": "code",
   "execution_count": null,
   "id": "a1ad2fbf-47a9-44b9-b1e0-70f0f5aeed21",
   "metadata": {},
   "outputs": [],
   "source": []
  }
 ],
 "metadata": {
  "kernelspec": {
   "display_name": "Python 3 (ipykernel)",
   "language": "python",
   "name": "python3"
  },
  "language_info": {
   "codemirror_mode": {
    "name": "ipython",
    "version": 3
   },
   "file_extension": ".py",
   "mimetype": "text/x-python",
   "name": "python",
   "nbconvert_exporter": "python",
   "pygments_lexer": "ipython3",
   "version": "3.12.1"
  }
 },
 "nbformat": 4,
 "nbformat_minor": 5
}
