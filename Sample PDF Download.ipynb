{
 "cells": [
  {
   "cell_type": "code",
   "execution_count": null,
   "id": "6e0e5586-2d13-4726-91a5-f55330e62cc3",
   "metadata": {},
   "outputs": [],
   "source": [
    "import os\n",
    "import requests"
   ]
  },
  {
   "cell_type": "code",
   "execution_count": null,
   "id": "6a6e43dd-2162-42f5-95cd-5d4fed2a36ae",
   "metadata": {},
   "outputs": [],
   "source": [
    "def download_pdfs(url_list, local_folder):\n",
    "    \"\"\"\n",
    "    Downloads PDFs from a list of URLs and saves them in a specified local folder.\n",
    "    \n",
    "    Parameters:\n",
    "    - url_list: A list of URLs in the form \"http://<ROOT>/<GUID>/pdf/<FILENAME>.pdf\"\n",
    "    - local_folder: The name of the local folder where the PDFs should be saved.\n",
    "    \n",
    "    Returns:\n",
    "    A list of the final local paths to all files downloaded.\n",
    "    \"\"\"\n",
    "    if not os.path.exists(local_folder):\n",
    "        os.makedirs(local_folder)\n",
    "    \n",
    "    downloaded_files = []\n",
    "    \n",
    "    for url in url_list:\n",
    "        try:\n",
    "            response = requests.get(url)\n",
    "            response.raise_for_status()  # Raises an HTTPError if the response was an error\n",
    "            \n",
    "            # Extract GUID and FILENAME from the URL\n",
    "            parts = url.split('/')\n",
    "            guid = parts[-3]\n",
    "            filename = parts[-1]\n",
    "            \n",
    "            # Create subfolder for the GUID if it doesn't exist\n",
    "            guid_folder = os.path.join(local_folder, guid)\n",
    "            if not os.path.exists(guid_folder):\n",
    "                os.makedirs(guid_folder)\n",
    "            \n",
    "            file_path = os.path.join(guid_folder, filename)\n",
    "            \n",
    "            # Save the PDF\n",
    "            with open(file_path, 'wb') as f:\n",
    "                f.write(response.content)\n",
    "            \n",
    "            downloaded_files.append(file_path)\n",
    "            print(f\"Downloaded {filename} to {file_path}\")\n",
    "        \n",
    "        except requests.exceptions.RequestException as e:\n",
    "            print(f\"Failed to download {url}: {e}\")\n",
    "    \n",
    "    return downloaded_files\n"
   ]
  },
  {
   "cell_type": "code",
   "execution_count": null,
   "id": "0426a015-2e80-4f84-a314-03e2cba32c11",
   "metadata": {},
   "outputs": [],
   "source": [
    "# Example usage\n",
    "url_list = [\n",
    "\"http://documents.worldbank.org/curated/en/713741468337198922/pdf/536490BRI0SPAN10Box345621B01PUBLIC1.pdf\",\n",
    "\"http://documents.worldbank.org/curated/en/615181468141301901/pdf/394600turkey0p1io0economic01public1.pdf\",\n",
    "\"http://documents.worldbank.org/curated/en/561931468184777746/pdf/96423-BRI-CHILD-FECES-Box391444B-PUBLIC-WSP-Chad-CFD-Profile.pdf\",\n",
    "\"http://documents.worldbank.org/curated/en/115871467986280887/pdf/96433-BRI-CHILD-FECES-Box391444B-PUBLIC-WSP-Malawi-CFD-Profile.pdf\",\n",
    "\"http://documents.worldbank.org/curated/en/449301467990363947/pdf/E23680v50P11151C10AFR1HCWMP1P111556.pdf\",\n",
    "\"http://documents.worldbank.org/curated/en/941581468190761057/pdf/96403-BRI-2012Apr16-P003566-SPANISH-China-Basic-Health-Services-Box-391427B-PUBLIC.pdf\",\n",
    "\"http://documents.worldbank.org/curated/en/509091468331002932/pdf/663880NEWS00PU0x365772B0HDQU0402011.pdf\",\n",
    "\"http://documents.worldbank.org/curated/en/405711468175729150/pdf/SFG1354-EA-P145335-PUBLIC-Disclosed-9-29-2015-Box393207B.pdf\",\n",
    "\"http://documents.worldbank.org/curated/en/752981468262477356/pdf/529370BRI0REVI10BOX353820B01PUBLIC1.pdf\",\n",
    "\"http://documents.worldbank.org/curated/en/210641468250499158/pdf/multi0page.pdf\",\n",
    "\"http://documents.worldbank.org/curated/en/261121468118730678/pdf/434650ESW0P1061sclosed0June01302008.pdf\",\n",
    "\"http://documents.worldbank.org/curated/en/586751527602077814/pdf/Egypt-Arab-Republic-of-EG-Health-Care-Quality-Improvement.pdf\",\n",
    "\"http://documents.worldbank.org/curated/en/132391620237296622/pdf/Additional-Financing-Environmental-and-Social-Review-Summary-ESRS-Ghana-COVID-19-Emergency-Preparedness-and-Response-Project-Second-Additional-Financing-P176485.pdf\",\n",
    "\"http://documents.worldbank.org/curated/en/505471468333856058/pdf/480610BR0R200910disclosed0417120091.pdf\",\n",
    "\"http://documents.worldbank.org/curated/en/858561468015878973/pdf/623750PROP0P110delo0BM000abril02011.pdf\",\n",
    "\"http://documents.worldbank.org/curated/en/592131632358667692/pdf/Revised-Labor-Management-Procedures-Public-Information-and-Awareness-Services-for-Vulnerable-Communities-in-Lao-PDR-P170640.pdf\",\n",
    "\"http://documents.worldbank.org/curated/en/306031588146608710/pdf/Infection-Control-and-Waste-Management-for-Lesotho-Standard-Operating-Procedures.pdf\",\n",
    "\"http://documents.worldbank.org/curated/en/166011467999980505/pdf/ICRR14891-P083997-Box394872B-PUBLIC.pdf\",\n",
    "\"http://documents.worldbank.org/curated/en/452051468106470860/pdf/multi-page.pdf\",\n",
    "\"http://documents.worldbank.org/curated/en/635231468033354371/pdf/0394025FCED4BE3185256F03000FFAF4.pdf\",\n",
    "\"http://documents.worldbank.org/curated/en/739891468330315677/pdf/121830WDR0CHINESE0Box74476B01PUBLIC1.pdf\",\n",
    "\"http://documents.worldbank.org/curated/en/497961491988459594/pdf/114174-NEWS-PUBLIC-English-CU-APR17-web.pdf\"\n",
    "]"
   ]
  },
  {
   "cell_type": "code",
   "execution_count": null,
   "id": "cdc8e042-7a87-478b-ad59-2eb4e3d9d7e2",
   "metadata": {},
   "outputs": [],
   "source": [
    "local_folder = \"/Users/willit/Documents/WorldBank/samplefiles\"\n"
   ]
  },
  {
   "cell_type": "code",
   "execution_count": null,
   "id": "0b76e55c-2646-4305-af57-1ad48caa8d33",
   "metadata": {},
   "outputs": [],
   "source": [
    "downloaded_files = download_pdfs(url_list, local_folder)\n",
    "print(\"Completed downloads:\")\n",
    "for file in downloaded_files:\n",
    "    print(file)"
   ]
  },
  {
   "cell_type": "code",
   "execution_count": null,
   "id": "f5ad0775-5255-45d6-ae6e-b469ccc11458",
   "metadata": {},
   "outputs": [],
   "source": []
  }
 ],
 "metadata": {
  "kernelspec": {
   "display_name": "Python 3 (ipykernel)",
   "language": "python",
   "name": "python3"
  },
  "language_info": {
   "codemirror_mode": {
    "name": "ipython",
    "version": 3
   },
   "file_extension": ".py",
   "mimetype": "text/x-python",
   "name": "python",
   "nbconvert_exporter": "python",
   "pygments_lexer": "ipython3",
   "version": "3.12.1"
  }
 },
 "nbformat": 4,
 "nbformat_minor": 5
}
