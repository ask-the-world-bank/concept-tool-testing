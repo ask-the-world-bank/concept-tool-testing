{
 "cells": [
  {
   "cell_type": "code",
   "execution_count": 12,
   "id": "8b829de4-587b-414c-9187-7f53f56ed041",
   "metadata": {},
   "outputs": [],
   "source": [
    "import requests\n",
    "import pandas as pd"
   ]
  },
  {
   "cell_type": "code",
   "execution_count": 13,
   "id": "5a85bc4f-cd29-4776-8f06-e464a607b0c8",
   "metadata": {},
   "outputs": [],
   "source": [
    "# Function to query the API and fetch the data\n",
    "def fetch_data(offset=0, rows_per_request=100):\n",
    "    base_url = \"https://search.worldbank.org/api/v2/wds\"\n",
    "    params = {\n",
    "        \"qterm\": \"hepatitis\",\n",
    "        \"format\": \"json\",\n",
    "        \"os\": offset,\n",
    "        \"rows\": rows_per_request,\n",
    "        \"fl\": \"issn,txturl,abstracts,guid,docna,count,authr,colti,display_title,docdt,docty,geo_reg,id,isbn,keywd,lang,majtheme,pdfurl,subsc,subtopic,theme,topic,url\"\n",
    "    }\n",
    "    \n",
    "    response = requests.get(base_url, params=params)\n",
    "    if response.status_code == 200:\n",
    "        return response.json()\n",
    "    else:\n",
    "        return None"
   ]
  },
  {
   "cell_type": "code",
   "execution_count": 14,
   "id": "89e30eba-5945-4a24-99ec-909a26fa837b",
   "metadata": {},
   "outputs": [],
   "source": [
    "def process_data(data):\n",
    "    documents = data.get('documents', {})\n",
    "    \n",
    "    flat_data = []\n",
    "    for doc_id, doc in documents.items():\n",
    "        # Initialize a dictionary for the flattened data\n",
    "        flat_doc = {'doc_id': doc_id}\n",
    "        for key, value in doc.items():\n",
    "            # Check if the key is one of the special fields and if the value is a string\n",
    "            if key in ['authors', 'geo_regions', 'keywords'] and isinstance(value, str):\n",
    "                try:\n",
    "                    # Attempt to parse the JSON string into a dictionary\n",
    "                    value = json.loads(value)\n",
    "                except json.JSONDecodeError:\n",
    "                    # Handle cases where parsing fails\n",
    "                    print(f\"Error decoding JSON for {key} in document {doc_id}\")\n",
    "            \n",
    "            if isinstance(value, dict):\n",
    "                # Handle nested dictionaries\n",
    "                nested_values = []\n",
    "                for nested_key, nested_value in value.items():\n",
    "                    if isinstance(nested_value, dict) and 'value' in nested_value:\n",
    "                        nested_values.append(nested_value['value'])\n",
    "                    elif isinstance(nested_value, str):\n",
    "                        nested_values.append(nested_value)\n",
    "                    else:\n",
    "                        nested_values.append(str(nested_value))\n",
    "                flat_doc[key] = '; '.join(nested_values)\n",
    "            else:\n",
    "                flat_doc[key] = value\n",
    "        flat_data.append(flat_doc)\n",
    "    return flat_data"
   ]
  },
  {
   "cell_type": "code",
   "execution_count": 15,
   "id": "eeac5f0d-b538-492a-a1ba-b98d291cdb5f",
   "metadata": {},
   "outputs": [],
   "source": [
    "# Main function to fetch all data and write to an Excel file\n",
    "def main():\n",
    "    all_data = []\n",
    "    offset = 0\n",
    "    total_rows = 802  # Assuming the total number of documents is known. This could also be dynamically retrieved.\n",
    "    \n",
    "    while offset < total_rows:\n",
    "        data = fetch_data(offset=offset)\n",
    "        if data:\n",
    "            processed_data = process_data(data)\n",
    "            all_data.extend(processed_data)\n",
    "            offset += 100  # Increment the offset for the next loop iteration\n",
    "        else:\n",
    "            print(\"Failed to fetch data.\")\n",
    "            break\n",
    "    \n",
    "    # Convert the list of dictionaries to a pandas DataFrame\n",
    "    df = pd.DataFrame(all_data)\n",
    "    \n",
    "    # Write the DataFrame to an Excel file\n",
    "    excel_path = \"/Users/willit/Documents/WorldBank/output2.xlsx\"\n",
    "    df.to_excel(excel_path, index=False)\n",
    "    print(f\"Data successfully written to {excel_path}\")\n"
   ]
  },
  {
   "cell_type": "code",
   "execution_count": 16,
   "id": "ebcfa282-eab0-4558-84d1-6d9ed4318bcc",
   "metadata": {},
   "outputs": [
    {
     "name": "stdout",
     "output_type": "stream",
     "text": [
      "Data successfully written to /Users/willit/Documents/WorldBank/output2.xlsx\n"
     ]
    }
   ],
   "source": [
    "if __name__ == \"__main__\":\n",
    "    main()\n"
   ]
  },
  {
   "cell_type": "code",
   "execution_count": null,
   "id": "28745b63-b379-4800-875c-e610e9e35709",
   "metadata": {},
   "outputs": [],
   "source": []
  }
 ],
 "metadata": {
  "kernelspec": {
   "display_name": "Python 3 (ipykernel)",
   "language": "python",
   "name": "python3"
  },
  "language_info": {
   "codemirror_mode": {
    "name": "ipython",
    "version": 3
   },
   "file_extension": ".py",
   "mimetype": "text/x-python",
   "name": "python",
   "nbconvert_exporter": "python",
   "pygments_lexer": "ipython3",
   "version": "3.12.1"
  }
 },
 "nbformat": 4,
 "nbformat_minor": 5
}
