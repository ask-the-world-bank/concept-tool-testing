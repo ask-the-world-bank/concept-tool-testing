{
 "cells": [
  {
   "cell_type": "markdown",
   "id": "14bae8be",
   "metadata": {},
   "source": [
    "# PDF Text and Image Extraction\n",
    "\n",
    "This notebook is designed to perform text extraction from all pages of specific PDFs, using PyMuPDF.\n",
    "It extracts text as shown in the PDFs, with extraneous whitespace removed and ignores .72 inches of border on each page.\n",
    "Additionally, it extracts images larger than 200 pixels in any dimension or larger than 100kb in size.\n",
    "\n",
    "The extracted text and images are saved in the same directory as the PDFs.\n"
   ]
  },
  {
   "cell_type": "code",
   "execution_count": 1,
   "id": "4dd6ae3e",
   "metadata": {},
   "outputs": [],
   "source": [
    "import fitz  # PyMuPDF\n",
    "import os\n"
   ]
  },
  {
   "cell_type": "code",
   "execution_count": 2,
   "id": "b550152f",
   "metadata": {},
   "outputs": [],
   "source": [
    "def extract_text_and_images(pdf_path):\n",
    "    doc = fitz.open(pdf_path)\n",
    "    text_folder = os.path.splitext(pdf_path)[0] + '_text'\n",
    "    image_folder = os.path.splitext(pdf_path)[0] + '_images'\n",
    "    os.makedirs(text_folder, exist_ok=True)\n",
    "    os.makedirs(image_folder, exist_ok=True)\n",
    "    \n",
    "    for page_num, page in enumerate(doc):\n",
    "        # Extract text, ignoring .72 inches of border\n",
    "        text = page.get_textbox(rect=fitz.Rect(72 * 0.72, 72 * 0.72, page.rect.width - (72 * 0.72), page.rect.height - (72 * 0.72)))\n",
    "        text_file_path = os.path.join(text_folder, f'page_{page_num}.txt')\n",
    "        with open(text_file_path, 'w') as f:\n",
    "            f.write(text.strip())\n",
    "        \n",
    "        # Extract images\n",
    "        image_list = page.get_images(full=True)\n",
    "        for image_index, img in enumerate(page.get_images(full=True)):\n",
    "            xref = img[0]\n",
    "            base_image = doc.extract_image(xref)\n",
    "            image = base_image[\"image\"]\n",
    "            # Check if image meets size criteria\n",
    "            if base_image[\"width\"] > 200 or base_image[\"height\"] > 200 or len(image) > 100 * 1024:\n",
    "                image_path = os.path.join(image_folder, f'page_{page_num}_image_{image_index}.png')\n",
    "                with open(image_path, 'wb') as img_file:\n",
    "                    img_file.write(image)\n"
   ]
  },
  {
   "cell_type": "code",
   "execution_count": 3,
   "id": "99ed74ba",
   "metadata": {},
   "outputs": [
    {
     "ename": "NameError",
     "evalue": "name 'pdf_paths' is not defined",
     "output_type": "error",
     "traceback": [
      "\u001b[0;31m---------------------------------------------------------------------------\u001b[0m",
      "\u001b[0;31mNameError\u001b[0m                                 Traceback (most recent call last)",
      "Cell \u001b[0;32mIn[3], line 1\u001b[0m\n\u001b[0;32m----> 1\u001b[0m \u001b[38;5;28;01mfor\u001b[39;00m pdf_path \u001b[38;5;129;01min\u001b[39;00m \u001b[43mpdf_paths\u001b[49m:\n\u001b[1;32m      2\u001b[0m     extract_text_and_images(pdf_path)\n\u001b[1;32m      3\u001b[0m     \u001b[38;5;28mprint\u001b[39m(\u001b[38;5;124mf\u001b[39m\u001b[38;5;124m'\u001b[39m\u001b[38;5;124mCompleted extraction for: \u001b[39m\u001b[38;5;132;01m{\u001b[39;00mpdf_path\u001b[38;5;132;01m}\u001b[39;00m\u001b[38;5;124m'\u001b[39m)\n",
      "\u001b[0;31mNameError\u001b[0m: name 'pdf_paths' is not defined"
     ]
    }
   ],
   "source": [
    "for pdf_path in pdf_paths:\n",
    "    extract_text_and_images(pdf_path)\n",
    "    print(f'Completed extraction for: {pdf_path}')\n"
   ]
  },
  {
   "cell_type": "code",
   "execution_count": null,
   "id": "98efa581-53ca-4fcb-b201-301d527f2fc7",
   "metadata": {},
   "outputs": [],
   "source": []
  }
 ],
 "metadata": {
  "kernelspec": {
   "display_name": "Python 3 (ipykernel)",
   "language": "python",
   "name": "python3"
  },
  "language_info": {
   "codemirror_mode": {
    "name": "ipython",
    "version": 3
   },
   "file_extension": ".py",
   "mimetype": "text/x-python",
   "name": "python",
   "nbconvert_exporter": "python",
   "pygments_lexer": "ipython3",
   "version": "3.12.1"
  }
 },
 "nbformat": 4,
 "nbformat_minor": 5
}
